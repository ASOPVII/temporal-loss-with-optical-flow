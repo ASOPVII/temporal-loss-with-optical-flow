{
 "cells": [
  {
   "cell_type": "code",
   "execution_count": 1,
   "metadata": {},
   "outputs": [],
   "source": [
    "import pickle\n",
    "import numpy as np\n",
    "import gzip\n",
    "import torch\n",
    "import cv2\n",
    "import math\n",
    "import random"
   ]
  },
  {
   "cell_type": "code",
   "execution_count": 2,
   "metadata": {},
   "outputs": [],
   "source": [
    "def get_warp_label(flow1, flow2, label1): #H,W,C  h*w*2\n",
    "    flow_shape = flow1.shape\n",
    "    label_shape = label1.shape  \n",
    "    height, width = flow1.shape[0], flow1.shape[1]\n",
    "\n",
    "    label2 = torch.zeros(label_shape)   #label2 = np.zeros_like(label1, dtype=label1.dtype)\n",
    "    flow_t = torch.zeros(flow_shape)    #flow_t = np.zeros_like(flow1, dtype=flow1.dtype)\n",
    "\n",
    "    #grid = np.indices((height, width)).swapaxes(0, 1).swapaxes(1, 2)\n",
    "    h_grid = torch.arange(0, height)\n",
    "    w_grid = torch.arange(0, width)\n",
    "    h_grid = h_grid.repeat(width, 1).permute(1,0) #.unsqueeze(0)\n",
    "    w_grid = w_grid.repeat(height,1)              #.unsqueeze(0)\n",
    "    grid = torch.stack((h_grid,w_grid),0).permute(1,2,0) #float3\n",
    "    #grid = torch.cat([h_grid, w_grid],0).permute(1,2,0)\n",
    "\n",
    "    dx = grid[:, :, 0] + flow2[:, :, 1].long()\n",
    "    dy = grid[:, :, 1] + flow2[:, :, 0].long()\n",
    "    sx = torch.floor(dx.float()) #float32 #sx = np.floor(dx).astype(int)\n",
    "    sy = torch.floor(dy.float()) \n",
    "\n",
    "    valid = (sx >= 0) & (sx < height - 1) & (sy >= 0) & (sy < width - 1) #H* W 512 x 512 uint8\n",
    "\n",
    "    # sx_mat = np.dstack((sx, sx + 1, sx, sx + 1)).clip(0, height - 1)\n",
    "    # sy_mat = np.dstack((sy, sy, sy + 1, sy + 1)).clip(0, width - 1)\n",
    "    # sxsy_mat = np.abs((1 - np.abs(sx_mat - dx[:, :, np.newaxis])) *\n",
    "    #                   (1 - np.abs(sy_mat - dy[:, :, np.newaxis])))\n",
    "\n",
    "    sx_mat = torch.stack((sx, sx + 1, sx, sx + 1),dim=2).clamp(0, height - 1)  #torch.float32\n",
    "    sy_mat = torch.stack((sy, sy, sy + 1, sy + 1),dim=2).clamp(0, width - 1)\n",
    "    sxsy_mat = torch.abs((1 - torch.abs(sx_mat - dx.float().unsqueeze(0).permute(1,2,0))) *\n",
    "                          (1 - torch.abs(sy_mat - dy.float().unsqueeze(0).permute(1,2,0))))\n",
    "\n",
    "    for i in range(4):\n",
    "        flow_t = flow_t.long() + sxsy_mat.long()[:, :, i].unsqueeze(0).permute(1,2,0) * flow1.long()[sx_mat.long()[:, :, i], sy_mat.long()[:, :, i], :]\n",
    "\n",
    "    valid = valid & (torch.norm(flow_t.float()[:, :, [1, 0]] + torch.stack((dx.float(),dy.float()),dim=2) - grid.float(), dim=2, keepdim=True).squeeze(2) < 100)\n",
    "\n",
    "    flow_t = (flow2.float() - flow_t.float()) / 2.0\n",
    "    dx = grid.long()[:, :, 0] + flow_t.long()[:, :, 1]\n",
    "    dy = grid.long()[:, :, 1] + flow_t.long()[:, :, 0]\n",
    "    valid = valid & (dx >= 0) & (dx < height - 1) & (dy >= 0) & (dy < width - 1)\n",
    "\n",
    "    label2[valid, :] = label1.float()[dx[valid].long(), dy[valid].long(), :]\n",
    "\n",
    "    return label2 #HW3"
   ]
  },
  {
   "cell_type": "code",
   "execution_count": 3,
   "metadata": {},
   "outputs": [],
   "source": [
    "#Original"
   ]
  },
  {
   "cell_type": "code",
   "execution_count": 42,
   "metadata": {},
   "outputs": [
    {
     "name": "stdout",
     "output_type": "stream",
     "text": [
      "read flow and image\n",
      "int16\n",
      "(1080, 1920, 3)\n"
     ]
    }
   ],
   "source": [
    "prev = cv2.imread('0000.png')\n",
    "cur = cv2.imread('0001.png')\n",
    "h,w = prev.shape[:2]\n",
    "flow1 = pickle.loads(gzip.GzipFile('forward_0_1.pkl', 'rb').read()) #'forward_0_5.pkl'\n",
    "flow2 = pickle.loads(gzip.GzipFile('backward_1_0.pkl', 'rb').read())  #'backward_5_0.pkl'\n",
    "print(\"read flow and image\")\n",
    "print(flow1.dtype)\n",
    "print(prev.shape)"
   ]
  },
  {
   "cell_type": "code",
   "execution_count": 43,
   "metadata": {},
   "outputs": [],
   "source": [
    "#get_warp_label(forward, backward, 0th)  #  0 -> 1\n",
    "#get_warp_label(backward, forward, 1th)  #  1 -> 0\n",
    "tf1 = torch.from_numpy(flow1)\n",
    "tf2 = torch.from_numpy(flow2)\n",
    "tcur = torch.from_numpy(cur)\n",
    "tprev = torch.from_numpy(prev)\n"
   ]
  },
  {
   "cell_type": "code",
   "execution_count": 44,
   "metadata": {},
   "outputs": [
    {
     "name": "stdout",
     "output_type": "stream",
     "text": [
      "finish warp\n"
     ]
    }
   ],
   "source": [
    "w0 = get_warp_label(tf1, tf2, tprev).numpy()  #0->1\n",
    "w1 = get_warp_label(tf2, tf1, tcur).numpy()  #1->0\n",
    "cv2.imwrite('from_prev_to_cur.png', w0)\n",
    "cv2.imwrite('from_cur_to_prev.png', w1)"
   ]
  },
  {
   "cell_type": "code",
   "execution_count": 45,
   "metadata": {},
   "outputs": [],
   "source": [
    "#Resize"
   ]
  },
  {
   "cell_type": "code",
   "execution_count": 46,
   "metadata": {},
   "outputs": [
    {
     "name": "stdout",
     "output_type": "stream",
     "text": [
      "(648, 576, 3)\n"
     ]
    }
   ],
   "source": [
    "fx = 0.3  # fx * 1280(shape[1])\n",
    "fy = 0.6  # fy * 720(shape[0])\n",
    "prev_resize = cv2.resize(prev, None, fx=fx, fy=fy, interpolation=cv2.INTER_LINEAR)\n",
    "cur_resize = cv2.resize(cur, None, fx=fx, fy=fy, interpolation=cv2.INTER_LINEAR)\n",
    "cv2.imwrite('resize_prev_.png', prev_resize)\n",
    "cv2.imwrite('resize_cur_.png', cur_resize)\n",
    "print(prev_resize.shape)"
   ]
  },
  {
   "cell_type": "code",
   "execution_count": 47,
   "metadata": {},
   "outputs": [],
   "source": [
    "#target.shape[0] = shape[0] * fy\n",
    "#target.shape[1] = shape[1] * fx"
   ]
  },
  {
   "cell_type": "code",
   "execution_count": 48,
   "metadata": {},
   "outputs": [],
   "source": [
    "flow1_resize = cv2.resize(flow1, None, fx=fx, fy=fy, interpolation=cv2.INTER_LINEAR)\n",
    "flow2_resize = cv2.resize(flow2, None, fx=fx, fy=fy, interpolation=cv2.INTER_LINEAR)"
   ]
  },
  {
   "cell_type": "code",
   "execution_count": 49,
   "metadata": {},
   "outputs": [],
   "source": [
    "rcur = torch.from_numpy(cur_resize)\n",
    "rprev = torch.from_numpy(prev_resize)\n",
    "rf1 = torch.from_numpy(flow1_resize).float()\n",
    "rf2 = torch.from_numpy(flow2_resize).float()\n",
    "rf1[:,:,1] *= fy\n",
    "rf2[:,:,1] *= fy\n",
    "rf1[:,:,0] *= fx\n",
    "rf2[:,:,0] *= fx"
   ]
  },
  {
   "cell_type": "code",
   "execution_count": 50,
   "metadata": {},
   "outputs": [
    {
     "name": "stdout",
     "output_type": "stream",
     "text": [
      "finish warp\n"
     ]
    }
   ],
   "source": [
    "r0 = get_warp_label(rf1,rf2,rprev).numpy()  #0->1\n",
    "r1 = get_warp_label(rf2,rf1,rcur).numpy()  #1->0\n",
    "cv2.imwrite('resize_from_prev_to_cur.png', r0)\n",
    "cv2.imwrite('resize_from_cur_to_prev.png', r1)\n",
    "print(\"finish warp\")"
   ]
  },
  {
   "cell_type": "code",
   "execution_count": 51,
   "metadata": {},
   "outputs": [],
   "source": [
    "#Horizontal Flip"
   ]
  },
  {
   "cell_type": "code",
   "execution_count": 52,
   "metadata": {},
   "outputs": [
    {
     "data": {
      "text/plain": [
       "True"
      ]
     },
     "execution_count": 52,
     "metadata": {},
     "output_type": "execute_result"
    }
   ],
   "source": [
    "h_prev = cv2.flip(prev, 1)\n",
    "h_cur = cv2.flip(cur, 1)\n",
    "cv2.imwrite(\"flip_prev.png\", h_prev)\n",
    "cv2.imwrite(\"flip_cur.png\", h_cur)"
   ]
  },
  {
   "cell_type": "code",
   "execution_count": 53,
   "metadata": {},
   "outputs": [],
   "source": [
    "h_f1 = cv2.flip(flow1, 1)\n",
    "h_f2 = cv2.flip(flow2, 1)\n",
    "h_f1[:,:,0] *= -1\n",
    "h_f2[:,:,0] *= -1"
   ]
  },
  {
   "cell_type": "code",
   "execution_count": 54,
   "metadata": {},
   "outputs": [],
   "source": [
    "thcur = torch.from_numpy(h_cur)\n",
    "thprev = torch.from_numpy(h_prev)\n",
    "thf1 = torch.from_numpy(h_f1)\n",
    "thf2 = torch.from_numpy(h_f2)"
   ]
  },
  {
   "cell_type": "code",
   "execution_count": 55,
   "metadata": {},
   "outputs": [
    {
     "data": {
      "text/plain": [
       "True"
      ]
     },
     "execution_count": 55,
     "metadata": {},
     "output_type": "execute_result"
    }
   ],
   "source": [
    "h0 = get_warp_label(thf1, thf2, thprev).numpy()  #0->1\n",
    "h1 = get_warp_label(thf2, thf1, thcur).numpy()  #1->0\n",
    "cv2.imwrite('flip_from_prev_to_cur.png', h0)\n",
    "cv2.imwrite('flip_from_cur_to_prev.png', h1)"
   ]
  },
  {
   "cell_type": "code",
   "execution_count": 56,
   "metadata": {},
   "outputs": [
    {
     "data": {
      "text/plain": [
       "True"
      ]
     },
     "execution_count": 56,
     "metadata": {},
     "output_type": "execute_result"
    }
   ],
   "source": [
    "hw1 = cv2.flip(w1,1)\n",
    "hw0 = cv2.flip(w0,1)\n",
    "cv2.imwrite('hw1.png', hw1)\n",
    "cv2.imwrite('hw0.png', hw0)"
   ]
  },
  {
   "cell_type": "code",
   "execution_count": null,
   "metadata": {},
   "outputs": [],
   "source": []
  },
  {
   "cell_type": "code",
   "execution_count": 57,
   "metadata": {},
   "outputs": [],
   "source": [
    "#Rotation"
   ]
  },
  {
   "cell_type": "code",
   "execution_count": 58,
   "metadata": {
    "scrolled": true
   },
   "outputs": [],
   "source": [
    "beta = random.randint(-15,15)\n",
    "cos = math.cos(math.radians(beta))\n",
    "sin = math.sin(math.radians(beta))\n",
    "M = cv2.getRotationMatrix2D((w/2,h/2), beta, 1) #1==resize ratio\n",
    "new_shape = (w,h)"
   ]
  },
  {
   "cell_type": "code",
   "execution_count": 59,
   "metadata": {},
   "outputs": [
    {
     "data": {
      "text/plain": [
       "True"
      ]
     },
     "execution_count": 59,
     "metadata": {},
     "output_type": "execute_result"
    }
   ],
   "source": [
    "rot_prev = cv2.warpAffine(prev, M, new_shape)\n",
    "rot_cur = cv2.warpAffine(cur, M, new_shape)\n",
    "cv2.imwrite('rotate_prev.png', rot_prev)\n",
    "cv2.imwrite('rotate_cur.png', rot_cur)"
   ]
  },
  {
   "cell_type": "code",
   "execution_count": 60,
   "metadata": {
    "scrolled": true
   },
   "outputs": [
    {
     "name": "stdout",
     "output_type": "stream",
     "text": [
      "(1080, 1920, 2)\n"
     ]
    }
   ],
   "source": [
    "#rotate flow\n",
    "rot_flow1 = cv2.warpAffine(flow1, M, new_shape)\n",
    "rot_flow2 = cv2.warpAffine(flow2, M, new_shape)\n",
    "print(rot_flow2.shape)\n"
   ]
  },
  {
   "cell_type": "code",
   "execution_count": 61,
   "metadata": {},
   "outputs": [],
   "source": [
    "rotcur = torch.from_numpy(rot_cur)\n",
    "rotprev = torch.from_numpy(rot_prev)\n",
    "rotf1 = torch.from_numpy(rot_flow1).float()\n",
    "rotf2 = torch.from_numpy(rot_flow2).float()"
   ]
  },
  {
   "cell_type": "code",
   "execution_count": 62,
   "metadata": {},
   "outputs": [
    {
     "name": "stdout",
     "output_type": "stream",
     "text": [
      "torch.Size([1080, 1920, 2])\n"
     ]
    }
   ],
   "source": [
    "rot = 3\n",
    "# if rot==1:\n",
    "#     rotshape = rotf1.shape\n",
    "#     rotf1 = rotf1.permute(2,0,1).reshape(2,-1)\n",
    "#     rotf2 = rotf2.permute(2,0,1).reshape(2,-1)\n",
    "#     rotm = torch.tensor([[cos,sin],[-sin, cos]])\n",
    "#     rotf1 = rotm.mm(rotf1.float()).reshape(rotshape)\n",
    "#     rotf2 = rotm.mm(rotf2.float()).reshape(rotshape)\n",
    "if rot==2:\n",
    "    rotshape = rotf1.shape\n",
    "    rotf1 = rotf1.reshape(-1,2)\n",
    "    rotf2 = rotf2.reshape(-1,2)\n",
    "    rotm = torch.tensor([[cos,sin,-(1-cos)*w/2-h/2*sin],[-sin, cos,-(1-cos)*h/2+w/2*sin],[0,0,1]])\n",
    "    rotf1 = rotf1_0.float().mm(rotm).reshape(h,w,3)[:,:,:2]\n",
    "    rotf2 = rotf2_0.float().mm(rotm).reshape(h,w,3)[:,:,:2]\n",
    "if rot==3:\n",
    "    #change flow data\n",
    "    rotshape = rotf1.shape\n",
    "    rotf1 = rotf1.reshape(-1,2)\n",
    "    rotf2 = rotf2.reshape(-1,2)\n",
    "    rot0 = torch.ones(rotf1.shape[:1]).unsqueeze(1)\n",
    "    rotf1_0 = torch.cat((rotf1, rot0),dim=1)\n",
    "    rotf2_0 = torch.cat((rotf2, rot0),dim=1)\n",
    "\n",
    "    rotm = torch.tensor([[cos,-sin,(1-cos)*w/2+h/2*sin],[sin, cos,(1-cos)*h/2-w/2*sin],[0,0,1]])\n",
    "    rotf1 = rotf1_0.float().mm(rotm).reshape(h,w,3)[:,:,:2]\n",
    "    rotf2 = rotf2_0.float().mm(rotm).reshape(h,w,3)[:,:,:2]\n",
    "\n",
    "print(rotf1.shape)\n"
   ]
  },
  {
   "cell_type": "code",
   "execution_count": 63,
   "metadata": {
    "scrolled": true
   },
   "outputs": [
    {
     "data": {
      "text/plain": [
       "True"
      ]
     },
     "execution_count": 63,
     "metadata": {},
     "output_type": "execute_result"
    }
   ],
   "source": [
    "rot0 = get_warp_label(rotf1,rotf2,rotprev).numpy()  #0->1\n",
    "rot1 = get_warp_label(rotf2,rotf1,rotcur).numpy()  #1->0\n",
    "\n",
    "cv2.imwrite('rotate_from_prev_to_cur.png', rot0)\n",
    "cv2.imwrite('rotate_from_cur_to_prev.png', rot1)"
   ]
  },
  {
   "cell_type": "code",
   "execution_count": 64,
   "metadata": {},
   "outputs": [],
   "source": [
    "rotm = np.array(([[cos,-sin,(1-cos)*w/2+h/2*sin],[sin, cos,(1-cos)*h/2-w/2*sin],[0,0,1]]))"
   ]
  },
  {
   "cell_type": "code",
   "execution_count": 65,
   "metadata": {},
   "outputs": [
    {
     "data": {
      "text/plain": [
       "array([[ 9.78147601e-01,  2.07911691e-01, -9.12940097e+01],\n",
       "       [-2.07911691e-01,  9.78147601e-01,  2.11395519e+02],\n",
       "       [ 0.00000000e+00,  0.00000000e+00,  1.00000000e+00]])"
      ]
     },
     "execution_count": 65,
     "metadata": {},
     "output_type": "execute_result"
    }
   ],
   "source": [
    "rotm"
   ]
  },
  {
   "cell_type": "code",
   "execution_count": 66,
   "metadata": {},
   "outputs": [],
   "source": [
    "#THE WHOLE PROCESS\n",
    "\n",
    "#LOAD IMAGE AND FLOW\n",
    "prev = cv2.imread('0000.png')\n",
    "cur = cv2.imread('0001.png')\n",
    "label = cv2.imread('0000.png')\n",
    "flow1 = pickle.loads(gzip.GzipFile('forward_0_1.pkl', 'rb').read())  #'forward_0_5.pkl'\n",
    "flow2 = pickle.loads(gzip.GzipFile('backward_1_0.pkl', 'rb').read())  #'backward_5_0.pkl'\n",
    "h,w = prev.shape[:2]\n",
    "#print(\"INPUT SHAPE:\",prev.shape, cur.shape, label.shape, flow1.shape, flow2.shape)\n",
    "flow1 = flow1.astype(np.float32)\n",
    "flow2 = flow2.astype(np.float32)\n"
   ]
  },
  {
   "cell_type": "code",
   "execution_count": 67,
   "metadata": {},
   "outputs": [],
   "source": [
    "#Augment parameters\n",
    "resize_rate = 640.0 / min(h,w)\n",
    "if h < w:\n",
    "    rh = 640\n",
    "    rw = int(w * resize_rate)\n",
    "else:\n",
    "    rw = 640\n",
    "    rh = int(h * resize_rate)\n",
    "resize_shape = (rw, rh)\n",
    "#print(resize_shape)\n",
    "crop_size = 512\n",
    "hflip = random.randint(0,1)  #flip\n",
    "beta = random.randint(-15,15)  #rotate\n",
    "cos = math.cos(math.radians(beta))\n",
    "sin = math.sin(math.radians(beta))\n",
    "Rotation = cv2.getRotationMatrix2D((rw/2,rh/2), beta, 1) #1==resize ratio\n",
    "rotm = np.array(([[cos,-sin,(1-cos)*rw/2+rh/2*sin],[sin, cos,(1-cos)*rh/2-rw/2*sin],[0,0,1]]))\n",
    "rotate_shape = resize_shape"
   ]
  },
  {
   "cell_type": "code",
   "execution_count": 68,
   "metadata": {},
   "outputs": [],
   "source": [
    "#RESIZE\n",
    "prev = cv2.resize(prev, resize_shape, interpolation=cv2.INTER_LINEAR)\n",
    "cur  = cv2.resize(cur, resize_shape, interpolation=cv2.INTER_LINEAR)\n",
    "flow1 = cv2.resize(flow1, resize_shape, interpolation=cv2.INTER_LINEAR)\n",
    "flow2 = cv2.resize(flow2, resize_shape, interpolation=cv2.INTER_LINEAR)\n",
    "flow1 *= resize_rate\n",
    "flow2 *= resize_rate"
   ]
  },
  {
   "cell_type": "code",
   "execution_count": 69,
   "metadata": {},
   "outputs": [],
   "source": [
    "#FLIP\n",
    "if hflip==1:\n",
    "    prev  = cv2.flip(prev, 1)\n",
    "    cur   = cv2.flip(cur, 1)\n",
    "    label = cv2.flip(label, 1)\n",
    "    flow1 = cv2.flip(flow1, 1)\n",
    "    flow2 = cv2.flip(flow2, 1)\n",
    "    flow1[:,:,0] *= -1\n",
    "    flow2[:,:,0] *= -1\n"
   ]
  },
  {
   "cell_type": "code",
   "execution_count": 225,
   "metadata": {},
   "outputs": [
    {
     "data": {
      "text/plain": [
       "'\\nprev = prev.transpose(2,0,1) / 255.0\\ncur = cur.transpose(2,0,1) / 255.0\\nlabel = (label.transpose(2,0,1)>0).astype(np.int64)\\nflow1 = flow1.transpose(2,0,1).astype(np.int64)\\nflow2 = flow2.transpose(2,0,1).astype(np.int64)\\n'"
      ]
     },
     "execution_count": 225,
     "metadata": {},
     "output_type": "execute_result"
    }
   ],
   "source": [
    "#ROTATE\n",
    "prev  = cv2.warpAffine(prev, Rotation, rotate_shape)\n",
    "cur   = cv2.warpAffine(cur, Rotation, rotate_shape)\n",
    "flow1 = cv2.warpAffine(flow1, Rotation, rotate_shape)\n",
    "flow2 = cv2.warpAffine(flow2, Rotation, rotate_shape)\n",
    "\n",
    "rotshape = flow1.shape\n",
    "\n",
    "flow1 = flow1.reshape(-1,2)\n",
    "flow2 = flow2.reshape(-1,2)\n",
    "rot0 = np.ones(flow1.shape[0])[:,np.newaxis]\n",
    "flow1 =  np.concatenate((flow1, rot0),axis=1)\n",
    "flow2 =  np.concatenate((flow2, rot0),axis=1)\n",
    "\n",
    "flow1 = flow1.dot(rotm).reshape(rh,rw,3)[:,:,:2]\n",
    "flow2 = flow2.dot(rotm).reshape(rh,rw,3)[:,:,:2]\n"
   ]
  },
  {
   "cell_type": "code",
   "execution_count": 70,
   "metadata": {},
   "outputs": [
    {
     "data": {
      "text/plain": [
       "True"
      ]
     },
     "execution_count": 70,
     "metadata": {},
     "output_type": "execute_result"
    }
   ],
   "source": [
    "#CROP\n",
    "crop_shape = prev.shape[:2] #3,H,W\n",
    "crop_h = random.randint(0,crop_shape[0]-crop_size)\n",
    "crop_w = random.randint(0,crop_shape[1]-crop_size)\n",
    "\n",
    "prev  = prev[crop_h:crop_h+crop_size, crop_w:crop_w+crop_size, :]\n",
    "cur   = cur[crop_h:crop_h+crop_size, crop_w:crop_w+crop_size, :]\n",
    "label = label[crop_h:crop_h+crop_size, crop_w:crop_w+crop_size, :]\n",
    "flow1 = flow1[crop_h:crop_h+crop_size, crop_w:crop_w+crop_size, :]\n",
    "flow2 = flow2[crop_h:crop_h+crop_size, crop_w:crop_w+crop_size, :]\n",
    "\n",
    "\n",
    "cv2.imwrite('crop_prev.png', prev)\n",
    "cv2.imwrite('crop_cur.png', cur)\n"
   ]
  },
  {
   "cell_type": "code",
   "execution_count": 71,
   "metadata": {},
   "outputs": [
    {
     "name": "stdout",
     "output_type": "stream",
     "text": [
      "tensor shape: torch.Size([512, 512, 3]) torch.Size([512, 512, 3]) torch.Size([512, 512, 3]) torch.Size([512, 512, 2]) torch.Size([512, 512, 2])\n"
     ]
    }
   ],
   "source": [
    "#TO TENSOR\n",
    "prev = torch.from_numpy(prev).float()#.permute(1,2,0)\n",
    "cur = torch.from_numpy(cur).float()#.permute(1,2,0)\n",
    "label = torch.from_numpy(label)#.float()\n",
    "flow1 = torch.from_numpy(flow1).float()#.permute(1,2,0)\n",
    "flow2 = torch.from_numpy(flow2).float()#.permute(1,2,0)\n",
    "print(\"tensor shape:\", prev.shape, cur.shape, label.shape, flow1.shape, flow2.shape)"
   ]
  },
  {
   "cell_type": "code",
   "execution_count": 72,
   "metadata": {
    "scrolled": true
   },
   "outputs": [
    {
     "data": {
      "text/plain": [
       "True"
      ]
     },
     "execution_count": 72,
     "metadata": {},
     "output_type": "execute_result"
    }
   ],
   "source": [
    "w0 = get_warp_label(flow1, flow2, prev).numpy()  #0->1\n",
    "w1 = get_warp_label(flow2, flow1, cur).numpy()  #1->0\n",
    "cv2.imwrite('crop_from_prev_to_cur.png', w0)\n",
    "cv2.imwrite('crop_from_cur_to_prev.png', w1)"
   ]
  }
 ],
 "metadata": {
  "kernelspec": {
   "display_name": "Python 3",
   "language": "python",
   "name": "python3"
  },
  "language_info": {
   "codemirror_mode": {
    "name": "ipython",
    "version": 3
   },
   "file_extension": ".py",
   "mimetype": "text/x-python",
   "name": "python",
   "nbconvert_exporter": "python",
   "pygments_lexer": "ipython3",
   "version": "3.6.5"
  }
 },
 "nbformat": 4,
 "nbformat_minor": 2
}
